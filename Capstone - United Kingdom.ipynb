{
 "cells": [
  {
   "cell_type": "markdown",
   "metadata": {},
   "source": [
    "# Capstone Project: Evaluating Food Restaurant Feasibility in London, United Kingdom using k-Means Clustering"
   ]
  },
  {
   "cell_type": "markdown",
   "metadata": {},
   "source": [
    "## Table of Contents\n",
    "* [Introduction: Business Problem](#introduction)\n",
    "* [Data](#data)\n",
    "* [Methodology](#methodology)\n",
    "* [Analysis](#analysis)\n",
    "* [Results and Discussion](#results)\n",
    "* [Conclusion](#conclusion)"
   ]
  },
  {
   "cell_type": "markdown",
   "metadata": {},
   "source": [
    "## Introduction: Business Problem <a name=\"introduction\"></a>"
   ]
  },
  {
   "cell_type": "markdown",
   "metadata": {},
   "source": [
    "Suppose a client wants to expand his Jollybuzz food corporation to Europe. He wanted to build his first store in London, United Kingdom. However, he has little knowledge on areas and neighbourhood in the city. He also wants to know where are his competitors are located and where are the areas with least competition.\n",
    "\n",
    "In addition, we will evaluate which value of k has the highest model accuracy in identifying clusters of neighbourhoods in London. After determining the target neighborhood cluster, we will profile the cluster based on demography and predict two-year business survival rate in the cluster."
   ]
  },
  {
   "cell_type": "markdown",
   "metadata": {},
   "source": [
    "## Data <a name=\"Data\"></a>"
   ]
  },
  {
   "cell_type": "markdown",
   "metadata": {},
   "source": [
    "We will need to get information on:\n",
    "* List of Neighbourhood in London, United Kingdom\n",
    "* Post codes and location of the neighbourhoods\n",
    "* Venues in the neighbourhood\n",
    "* London Borough Profile\n",
    "\n",
    "There will be four sources of data:\n",
    "\n",
    "1. List of Neighbourhood(Areas) in London - https://en.wikipedia.org/wiki/List_of_areas_of_London </li>\n",
    "    This contains Location which will be the neighborhood, area which is the borough.\n",
    "2. Post codes and Location data - https://www.doogal.co.uk/AdministrativeAreas.php </li>\n",
    "    This contains the borough list with latitude and longitude values.\n",
    "3. Venues in the neighbourhood - Foursquare API </li>\n",
    "    To be extracted from Foursquare API\n",
    "4. London Borough profiles - https://data.london.gov.uk/dataset/london-borough-profiles#:~:text=The%20London%20Borough%20Profiles%20help,borough%2C%20alongside%20relevant%20comparator%20areas. </li>\n",
    "    Compute for Average two-year business survival rate in London and create new variable where value is equal to 1 if two-year business survival rate is above average and 0 otherwise. </li>\n",
    "   </li> Use this as dependent variable and run using decision tree and logistic regression to identify significant factors affecting in the target cluster to their business survival.\n",
    " "
   ]
  },
  {
   "cell_type": "markdown",
   "metadata": {},
   "source": [
    "### Importing Libraries"
   ]
  },
  {
   "cell_type": "code",
   "execution_count": null,
   "metadata": {},
   "outputs": [],
   "source": [
    "import numpy as np # library to handle data in a vectorized manner\n",
    "\n",
    "import pandas as pd # library for data analsysis\n",
    "pd.set_option('display.max_columns', None)\n",
    "pd.set_option('display.max_rows', None)\n",
    "\n",
    "import json # library to handle JSON files\n",
    "\n",
    "#!conda install -c conda-forge geopy --yes # uncomment this line if you haven't completed the Foursquare API lab\n",
    "from geopy.geocoders import Nominatim # convert an address into latitude and longitude values\n",
    "\n",
    "import requests # library to handle requests\n",
    "from pandas.io.json import json_normalize # tranform JSON file into a pandas dataframe\n",
    "\n",
    "# Matplotlib and associated plotting modules\n",
    "import matplotlib.cm as cm\n",
    "import matplotlib.colors as colors\n",
    "\n",
    "# import k-means from clustering stage\n",
    "from sklearn.cluster import KMeans\n",
    "\n",
    "#!conda install -c conda-forge folium=0.5.0 --yes # uncomment this line if you haven't completed the Foursquare API lab\n",
    "import folium # map rendering library\n",
    "\n",
    "import re\n",
    "\n",
    "print('Libraries imported.')"
   ]
  },
  {
   "cell_type": "markdown",
   "metadata": {},
   "source": [
    "### Webscraping List of Neighbourhoods in London"
   ]
  },
  {
   "cell_type": "code",
   "execution_count": null,
   "metadata": {},
   "outputs": [],
   "source": [
    "url  = 'https://en.wikipedia.org/wiki/List_of_areas_of_London'\n",
    "df_list = pd.read_html(url)\n",
    "\n",
    "# get 1st array which contains list of the neighbourhood\n",
    "df_list[1]"
   ]
  },
  {
   "cell_type": "code",
   "execution_count": null,
   "metadata": {},
   "outputs": [],
   "source": [
    "colnames = ['Neighborhood', 'Borough', 'Post_town','Postcode', 'Dial code']\n",
    "ldn = pd.DataFrame(df_list[1])\n",
    "ldn.drop(columns =[\"OS grid ref\"], axis = 1, inplace = True)\n",
    "ldn.columns=colnames\n",
    "ldn.drop(columns =[\"Dial code\"], axis = 1, inplace = True)\n",
    "\n",
    "ldn.head()\n"
   ]
  },
  {
   "cell_type": "code",
   "execution_count": null,
   "metadata": {},
   "outputs": [],
   "source": [
    "#remove subscripts in Borough column\n",
    "ldn['Borough']=ldn.Borough.str.replace('[^a-zA-Z, ]', \"\")\n",
    "ldn.head()"
   ]
  },
  {
   "cell_type": "code",
   "execution_count": null,
   "metadata": {},
   "outputs": [],
   "source": [
    "#split Boroughs and expand so that, one borough = one line\n",
    "ldn['Borough1'] = ldn['Borough'].str.split(',',expand = True).get(0)\n",
    "ldn['Borough2'] = ldn['Borough'].str.split(',',expand = True).get(1)\n",
    "ldn.head()"
   ]
  },
  {
   "cell_type": "code",
   "execution_count": null,
   "metadata": {},
   "outputs": [],
   "source": [
    "ldn1 = ldn[['Neighborhood', 'Borough1']]\n",
    "ldn2 = ldn[['Neighborhood', 'Borough2']]\n",
    "ldn1.columns = ['Neighborhood', 'Borough']\n",
    "ldn2.columns = ['Neighborhood', 'Borough']\n",
    "ldnf = ldn1.append( ldn2)\n",
    "ldnf = ldnf[ldnf['Borough'].notnull()]\n",
    "ldnf.sort_values(by = ['Borough'], inplace = True)\n",
    "ldnf"
   ]
  },
  {
   "cell_type": "markdown",
   "metadata": {},
   "source": [
    "## Webscraping location data"
   ]
  },
  {
   "cell_type": "code",
   "execution_count": null,
   "metadata": {},
   "outputs": [],
   "source": [
    "url  = 'https://www.doogal.co.uk/AdministrativeAreas.php'\n",
    "df_list2 = pd.read_html(url)\n",
    "df_list2[0]"
   ]
  },
  {
   "cell_type": "markdown",
   "metadata": {},
   "source": [
    "Convert to webscraped data into pandas data frame."
   ]
  },
  {
   "cell_type": "code",
   "execution_count": null,
   "metadata": {},
   "outputs": [],
   "source": [
    "#convert to data frame\n",
    "ll = pd.DataFrame(df_list2[0])\n",
    "ll = ll.filter(items = ['Administrative area',  'Latitude', 'Longitude'])\n",
    "ll.columns = ['Borough', 'Latitude', 'Longitude']\n",
    "ll.head()"
   ]
  },
  {
   "cell_type": "markdown",
   "metadata": {},
   "source": [
    "Merge Location data and Neighborhood data. "
   ]
  },
  {
   "cell_type": "code",
   "execution_count": null,
   "metadata": {},
   "outputs": [],
   "source": [
    "##combine location data and neighborhood data\n",
    "ldnf_ll = pd.merge(ldnf, ll, on = \"Borough\")\n",
    "ldnf_ll"
   ]
  },
  {
   "cell_type": "markdown",
   "metadata": {},
   "source": [
    "## Data <a name=\"Data\"></a>"
   ]
  },
  {
   "cell_type": "code",
   "execution_count": null,
   "metadata": {},
   "outputs": [],
   "source": []
  },
  {
   "cell_type": "code",
   "execution_count": null,
   "metadata": {},
   "outputs": [],
   "source": []
  },
  {
   "cell_type": "code",
   "execution_count": null,
   "metadata": {},
   "outputs": [],
   "source": []
  }
 ],
 "metadata": {
  "kernelspec": {
   "display_name": "Python 3",
   "language": "python",
   "name": "python3"
  },
  "language_info": {
   "codemirror_mode": {
    "name": "ipython",
    "version": 3
   },
   "file_extension": ".py",
   "mimetype": "text/x-python",
   "name": "python",
   "nbconvert_exporter": "python",
   "pygments_lexer": "ipython3",
   "version": "3.7.6"
  }
 },
 "nbformat": 4,
 "nbformat_minor": 4
}
